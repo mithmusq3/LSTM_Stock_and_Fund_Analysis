{
 "cells": [
  {
   "cell_type": "code",
   "execution_count": 1,
   "id": "15c1875c",
   "metadata": {},
   "outputs": [
    {
     "name": "stdout",
     "output_type": "stream",
     "text": [
      "2915957080094.058\n",
      "97692613370.35199\n",
      "78857355784.032\n",
      "\n",
      "\n",
      "3092507049248.4424\n"
     ]
    }
   ],
   "source": [
    "import pandas as pd\n",
    "\n",
    "df = pd.read_excel('Test.xlsx') # can also index sheet by name or fetch all sheets\n",
    "weights = df['Weights'].tolist()\n",
    "ch1 = df['CH1'].tolist()\n",
    "ch2 = df['CH2'].tolist()\n",
    "ch3 = df['CH3'].tolist()\n",
    "value = 0\n",
    "for i, weight in enumerate(weights, 0):\n",
    "    value = value + (weights[i]*ch1[i]*ch2[i]*ch3[i])\n",
    "print(ch2[0]*weights[0]*ch1[0]*ch3[0])\n",
    "print(ch2[2]*weights[2]*ch1[2]*ch3[2])\n",
    "print(ch2[1]*weights[1]*ch1[1]*ch3[1])\n",
    "print(\"\\n\")\n",
    "print(value)"
   ]
  },
  {
   "cell_type": "code",
   "execution_count": null,
   "id": "930639a3",
   "metadata": {},
   "outputs": [],
   "source": []
  }
 ],
 "metadata": {
  "kernelspec": {
   "display_name": "Python 3 (ipykernel)",
   "language": "python",
   "name": "python3"
  },
  "language_info": {
   "codemirror_mode": {
    "name": "ipython",
    "version": 3
   },
   "file_extension": ".py",
   "mimetype": "text/x-python",
   "name": "python",
   "nbconvert_exporter": "python",
   "pygments_lexer": "ipython3",
   "version": "3.10.8"
  }
 },
 "nbformat": 4,
 "nbformat_minor": 5
}
