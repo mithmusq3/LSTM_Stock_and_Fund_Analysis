{
 "cells": [
  {
   "cell_type": "code",
   "execution_count": 10,
   "id": "15c1875c",
   "metadata": {},
   "outputs": [
    {
     "name": "stdout",
     "output_type": "stream",
     "text": [
      "1060.926\n",
      "\n",
      "\n",
      "0.453\n"
     ]
    }
   ],
   "source": [
    "import pandas as pd\n",
    "\n",
    "df = pd.read_excel('Test.xlsx') # can also index sheet by name or fetch all sheets\n",
    "weights = df['Weights'].tolist()\n",
    "ch1 = df['CH1'].tolist()\n",
    "ch2 = df['CH2'].tolist()\n",
    "ch3 = df['CH3'].tolist()\n",
    "print(ch2[2]*weights[0])\n",
    "print(\"\\n\")\n",
    "print(weights[0])"
   ]
  },
  {
   "cell_type": "code",
   "execution_count": null,
   "id": "930639a3",
   "metadata": {},
   "outputs": [],
   "source": []
  }
 ],
 "metadata": {
  "kernelspec": {
   "display_name": "Python 3 (ipykernel)",
   "language": "python",
   "name": "python3"
  },
  "language_info": {
   "codemirror_mode": {
    "name": "ipython",
    "version": 3
   },
   "file_extension": ".py",
   "mimetype": "text/x-python",
   "name": "python",
   "nbconvert_exporter": "python",
   "pygments_lexer": "ipython3",
   "version": "3.10.8"
  }
 },
 "nbformat": 4,
 "nbformat_minor": 5
}
